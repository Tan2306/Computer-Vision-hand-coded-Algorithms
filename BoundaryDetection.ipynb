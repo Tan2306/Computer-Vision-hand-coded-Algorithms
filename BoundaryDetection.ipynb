{
 "cells": [
  {
   "cell_type": "code",
   "execution_count": 1,
   "metadata": {},
   "outputs": [],
   "source": [
    "import cv2\n",
    "import numpy as np\n",
    "import matplotlib.pyplot as plt\n",
    "from scipy.stats import mode"
   ]
  },
  {
   "cell_type": "code",
   "execution_count": 2,
   "metadata": {},
   "outputs": [
    {
     "data": {
      "text/plain": [
       "<matplotlib.image.AxesImage at 0x23c7f3683a0>"
      ]
     },
     "execution_count": 2,
     "metadata": {},
     "output_type": "execute_result"
    },
    {
     "data": {
      "image/png": "[encoded data removed]",
      "text/plain": [
       "<Figure size 576x288 with 1 Axes>"
      ]
     },
     "metadata": {
      "needs_background": "light"
     },
     "output_type": "display_data"
    }
   ],
   "source": [
    "def bound(BW,conn):\n",
    "    innerboundary=[]\n",
    "    for i in range(BW.shape[0]):\n",
    "        for j in range(BW.shape[1]):\n",
    "            if conn==4:\n",
    "                neighbours=[(i-1,j),(i+1,j),(i,j-1),(i,j+1)]\n",
    "            if conn==8:\n",
    "                neighbours=[(i-1,j),(i+1,j),(i,j-1),(i,j+1),(i-1,j-1),(i+1,j+1),(i-1,j+1),(i+1,j-1)]\n",
    "            \n",
    "            for k in neighbours: # for boundary pixels\n",
    "                if k[0]<0 or k[0]>BW.shape[0]-1 or k[1]<0 or k[1]>BW.shape[1]-1:\n",
    "                    neighbours.remove(k)\n",
    "                    \n",
    "            if all(BW[i,j] == [255,255,255]) :\n",
    "                for k in neighbours:\n",
    "                    if all(BW[k[0],k[1]] == [0,0,0]):\n",
    "                        innerboundary.append((i,j))\n",
    "                        BW[i,j] = np.array([255,0,0])\n",
    "    return (BW)\n",
    "                        \n",
    "    \n",
    "BW=cv2.imread(\"one_bird_BW.tif\")\n",
    "output = bound(BW,4)\n",
    "\n",
    "fig=plt.figure(figsize=(8, 4))\n",
    "fig.add_subplot(1, 1, 1)   # subplot one\n",
    "plt.imshow(output, cmap=plt.cm.gray)"
   ]
  }
 ],
 "metadata": {
  "kernelspec": {
   "display_name": "Python 3",
   "language": "python",
   "name": "python3"
  },
  "language_info": {
   "codemirror_mode": {
    "name": "ipython",
    "version": 3
   },
   "file_extension": ".py",
   "mimetype": "text/x-python",
   "name": "python",
   "nbconvert_exporter": "python",
   "pygments_lexer": "ipython3",
   "version": "3.8.5"
  }
 },
 "nbformat": 4,
 "nbformat_minor": 4
}
